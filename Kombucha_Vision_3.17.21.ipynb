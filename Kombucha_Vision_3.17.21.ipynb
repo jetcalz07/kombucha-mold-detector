{
 "cells": [
  {
   "cell_type": "markdown",
   "metadata": {},
   "source": [
    "## Data loading and preparation"
   ]
  },
  {
   "cell_type": "code",
   "execution_count": 1,
   "metadata": {},
   "outputs": [],
   "source": [
    "#!pip install -Uqq fastbook\n",
    "import fastbook\n",
    "from fastbook import *\n",
    "from fastai.vision.all import *\n",
    "from fastai.vision.widgets import *\n",
    "from fastai.metrics import *\n",
    "import seaborn as sb\n",
    "import PIL"
   ]
  },
  {
   "cell_type": "code",
   "execution_count": 2,
   "metadata": {},
   "outputs": [],
   "source": [
    "# from fastai.vision.all import *\n",
    "# path = Path().parent"
   ]
  },
  {
   "cell_type": "code",
   "execution_count": 3,
   "metadata": {},
   "outputs": [],
   "source": [
    "brew_types = 'Mold', 'Not Mold'\n",
    "path = Path('/notebooks/Kombucha/Clean Data/')"
   ]
  },
  {
   "cell_type": "code",
   "execution_count": 4,
   "metadata": {},
   "outputs": [],
   "source": [
    "#Function to create a dataloader with flexible batch sze and batch transform resizing\n",
    "def get_dls(bs, size):\n",
    "    dblock = DataBlock(blocks = (ImageBlock, CategoryBlock), \n",
    "                       #Get image files from wd path\n",
    "                       get_items=get_image_files, \n",
    "                       #30% validation set\n",
    "                       splitter=RandomSplitter(valid_pct=0.30, seed=42),\n",
    "                       #Photo folders are target labels\n",
    "                       get_y=parent_label,\n",
    "                       #Resize all photos to 460\n",
    "                       item_tfms=Resize(460),\n",
    "                       #Batch transforms, shrink photos to smaller size and perform other augmentations\n",
    "                       batch_tfms=aug_transforms(size=size, min_scale=.65))\n",
    "    return dblock.dataloaders(path, bs=bs)"
   ]
  },
  {
   "cell_type": "code",
   "execution_count": 5,
   "metadata": {},
   "outputs": [],
   "source": [
    "def loss_plot(recorder_vals):\n",
    "    epochs = []\n",
    "    loss = []\n",
    "    split = []\n",
    "\n",
    "    for epoch in range(len(recorder_vals)):\n",
    "        epochs.append(epoch)\n",
    "        epochs.append(epoch)\n",
    "        loss.append(recorder_vals[epoch][0])\n",
    "        split.append('Train')\n",
    "        loss.append(recorder_vals[epoch][1])\n",
    "        split.append('Val')\n",
    "\n",
    "    loss_vals = pd.DataFrame({'Epoch': epochs,\n",
    "                      'Loss': loss,\n",
    "                      'Split': split})\n",
    "\n",
    "    sb.lineplot(data=loss_vals, x=\"Epoch\", y=\"Loss\", hue=\"Split\")"
   ]
  },
  {
   "cell_type": "markdown",
   "metadata": {},
   "source": [
    "### Models"
   ]
  },
  {
   "cell_type": "code",
   "execution_count": 6,
   "metadata": {
    "scrolled": true
   },
   "outputs": [
    {
     "data": {
      "text/html": [
       "<table border=\"1\" class=\"dataframe\">\n",
       "  <thead>\n",
       "    <tr style=\"text-align: left;\">\n",
       "      <th>epoch</th>\n",
       "      <th>train_loss</th>\n",
       "      <th>valid_loss</th>\n",
       "      <th>accuracy</th>\n",
       "      <th>precision_score</th>\n",
       "      <th>recall_score</th>\n",
       "      <th>time</th>\n",
       "    </tr>\n",
       "  </thead>\n",
       "  <tbody>\n",
       "    <tr>\n",
       "      <td>0</td>\n",
       "      <td>1.215140</td>\n",
       "      <td>0.777575</td>\n",
       "      <td>0.694444</td>\n",
       "      <td>0.659984</td>\n",
       "      <td>0.686275</td>\n",
       "      <td>00:02</td>\n",
       "    </tr>\n",
       "  </tbody>\n",
       "</table>"
      ],
      "text/plain": [
       "<IPython.core.display.HTML object>"
      ]
     },
     "metadata": {},
     "output_type": "display_data"
    },
    {
     "data": {
      "text/html": [
       "<table border=\"1\" class=\"dataframe\">\n",
       "  <thead>\n",
       "    <tr style=\"text-align: left;\">\n",
       "      <th>epoch</th>\n",
       "      <th>train_loss</th>\n",
       "      <th>valid_loss</th>\n",
       "      <th>accuracy</th>\n",
       "      <th>precision_score</th>\n",
       "      <th>recall_score</th>\n",
       "      <th>time</th>\n",
       "    </tr>\n",
       "  </thead>\n",
       "  <tbody>\n",
       "    <tr>\n",
       "      <td>0</td>\n",
       "      <td>1.092027</td>\n",
       "      <td>0.741389</td>\n",
       "      <td>0.750000</td>\n",
       "      <td>0.717723</td>\n",
       "      <td>0.753501</td>\n",
       "      <td>00:02</td>\n",
       "    </tr>\n",
       "  </tbody>\n",
       "</table>"
      ],
      "text/plain": [
       "<IPython.core.display.HTML object>"
      ]
     },
     "metadata": {},
     "output_type": "display_data"
    },
    {
     "data": {
      "text/html": [
       "<table border=\"1\" class=\"dataframe\">\n",
       "  <thead>\n",
       "    <tr style=\"text-align: left;\">\n",
       "      <th>epoch</th>\n",
       "      <th>train_loss</th>\n",
       "      <th>valid_loss</th>\n",
       "      <th>accuracy</th>\n",
       "      <th>precision_score</th>\n",
       "      <th>recall_score</th>\n",
       "      <th>time</th>\n",
       "    </tr>\n",
       "  </thead>\n",
       "  <tbody>\n",
       "    <tr>\n",
       "      <td>0</td>\n",
       "      <td>0.892966</td>\n",
       "      <td>0.745057</td>\n",
       "      <td>0.694444</td>\n",
       "      <td>0.678322</td>\n",
       "      <td>0.714286</td>\n",
       "      <td>00:02</td>\n",
       "    </tr>\n",
       "  </tbody>\n",
       "</table>"
      ],
      "text/plain": [
       "<IPython.core.display.HTML object>"
      ]
     },
     "metadata": {},
     "output_type": "display_data"
    },
    {
     "data": {
      "text/html": [
       "<table border=\"1\" class=\"dataframe\">\n",
       "  <thead>\n",
       "    <tr style=\"text-align: left;\">\n",
       "      <th>epoch</th>\n",
       "      <th>train_loss</th>\n",
       "      <th>valid_loss</th>\n",
       "      <th>accuracy</th>\n",
       "      <th>precision_score</th>\n",
       "      <th>recall_score</th>\n",
       "      <th>time</th>\n",
       "    </tr>\n",
       "  </thead>\n",
       "  <tbody>\n",
       "    <tr>\n",
       "      <td>0</td>\n",
       "      <td>0.846180</td>\n",
       "      <td>0.645374</td>\n",
       "      <td>0.694444</td>\n",
       "      <td>0.668765</td>\n",
       "      <td>0.700280</td>\n",
       "      <td>00:02</td>\n",
       "    </tr>\n",
       "  </tbody>\n",
       "</table>"
      ],
      "text/plain": [
       "<IPython.core.display.HTML object>"
      ]
     },
     "metadata": {},
     "output_type": "display_data"
    },
    {
     "data": {
      "text/html": [
       "<table border=\"1\" class=\"dataframe\">\n",
       "  <thead>\n",
       "    <tr style=\"text-align: left;\">\n",
       "      <th>epoch</th>\n",
       "      <th>train_loss</th>\n",
       "      <th>valid_loss</th>\n",
       "      <th>accuracy</th>\n",
       "      <th>precision_score</th>\n",
       "      <th>recall_score</th>\n",
       "      <th>time</th>\n",
       "    </tr>\n",
       "  </thead>\n",
       "  <tbody>\n",
       "    <tr>\n",
       "      <td>0</td>\n",
       "      <td>1.034274</td>\n",
       "      <td>0.625125</td>\n",
       "      <td>0.750000</td>\n",
       "      <td>0.694118</td>\n",
       "      <td>0.669468</td>\n",
       "      <td>00:03</td>\n",
       "    </tr>\n",
       "  </tbody>\n",
       "</table>"
      ],
      "text/plain": [
       "<IPython.core.display.HTML object>"
      ]
     },
     "metadata": {},
     "output_type": "display_data"
    },
    {
     "data": {
      "text/html": [
       "<table border=\"1\" class=\"dataframe\">\n",
       "  <thead>\n",
       "    <tr style=\"text-align: left;\">\n",
       "      <th>epoch</th>\n",
       "      <th>train_loss</th>\n",
       "      <th>valid_loss</th>\n",
       "      <th>accuracy</th>\n",
       "      <th>precision_score</th>\n",
       "      <th>recall_score</th>\n",
       "      <th>time</th>\n",
       "    </tr>\n",
       "  </thead>\n",
       "  <tbody>\n",
       "    <tr>\n",
       "      <td>0</td>\n",
       "      <td>0.688146</td>\n",
       "      <td>0.583544</td>\n",
       "      <td>0.777778</td>\n",
       "      <td>0.740741</td>\n",
       "      <td>0.773109</td>\n",
       "      <td>00:03</td>\n",
       "    </tr>\n",
       "    <tr>\n",
       "      <td>1</td>\n",
       "      <td>0.815118</td>\n",
       "      <td>0.608069</td>\n",
       "      <td>0.819444</td>\n",
       "      <td>0.783445</td>\n",
       "      <td>0.816527</td>\n",
       "      <td>00:03</td>\n",
       "    </tr>\n",
       "    <tr>\n",
       "      <td>2</td>\n",
       "      <td>0.742416</td>\n",
       "      <td>0.551875</td>\n",
       "      <td>0.819444</td>\n",
       "      <td>0.780909</td>\n",
       "      <td>0.788515</td>\n",
       "      <td>00:03</td>\n",
       "    </tr>\n",
       "    <tr>\n",
       "      <td>3</td>\n",
       "      <td>0.712792</td>\n",
       "      <td>0.541012</td>\n",
       "      <td>0.819444</td>\n",
       "      <td>0.781250</td>\n",
       "      <td>0.802521</td>\n",
       "      <td>00:03</td>\n",
       "    </tr>\n",
       "  </tbody>\n",
       "</table>"
      ],
      "text/plain": [
       "<IPython.core.display.HTML object>"
      ]
     },
     "metadata": {},
     "output_type": "display_data"
    },
    {
     "data": {
      "text/html": [
       "<table border=\"1\" class=\"dataframe\">\n",
       "  <thead>\n",
       "    <tr style=\"text-align: left;\">\n",
       "      <th>epoch</th>\n",
       "      <th>train_loss</th>\n",
       "      <th>valid_loss</th>\n",
       "      <th>accuracy</th>\n",
       "      <th>precision_score</th>\n",
       "      <th>recall_score</th>\n",
       "      <th>time</th>\n",
       "    </tr>\n",
       "  </thead>\n",
       "  <tbody>\n",
       "    <tr>\n",
       "      <td>0</td>\n",
       "      <td>0.678619</td>\n",
       "      <td>0.415997</td>\n",
       "      <td>0.875000</td>\n",
       "      <td>0.851923</td>\n",
       "      <td>0.841737</td>\n",
       "      <td>00:03</td>\n",
       "    </tr>\n",
       "  </tbody>\n",
       "</table>"
      ],
      "text/plain": [
       "<IPython.core.display.HTML object>"
      ]
     },
     "metadata": {},
     "output_type": "display_data"
    },
    {
     "data": {
      "text/html": [
       "<table border=\"1\" class=\"dataframe\">\n",
       "  <thead>\n",
       "    <tr style=\"text-align: left;\">\n",
       "      <th>epoch</th>\n",
       "      <th>train_loss</th>\n",
       "      <th>valid_loss</th>\n",
       "      <th>accuracy</th>\n",
       "      <th>precision_score</th>\n",
       "      <th>recall_score</th>\n",
       "      <th>time</th>\n",
       "    </tr>\n",
       "  </thead>\n",
       "  <tbody>\n",
       "    <tr>\n",
       "      <td>0</td>\n",
       "      <td>0.685436</td>\n",
       "      <td>0.419813</td>\n",
       "      <td>0.888889</td>\n",
       "      <td>0.865546</td>\n",
       "      <td>0.865546</td>\n",
       "      <td>00:04</td>\n",
       "    </tr>\n",
       "    <tr>\n",
       "      <td>1</td>\n",
       "      <td>0.612288</td>\n",
       "      <td>0.424027</td>\n",
       "      <td>0.861111</td>\n",
       "      <td>0.828749</td>\n",
       "      <td>0.845938</td>\n",
       "      <td>00:04</td>\n",
       "    </tr>\n",
       "    <tr>\n",
       "      <td>2</td>\n",
       "      <td>0.642009</td>\n",
       "      <td>0.421860</td>\n",
       "      <td>0.888889</td>\n",
       "      <td>0.865546</td>\n",
       "      <td>0.865546</td>\n",
       "      <td>00:04</td>\n",
       "    </tr>\n",
       "    <tr>\n",
       "      <td>3</td>\n",
       "      <td>0.646302</td>\n",
       "      <td>0.419809</td>\n",
       "      <td>0.888889</td>\n",
       "      <td>0.865546</td>\n",
       "      <td>0.865546</td>\n",
       "      <td>00:04</td>\n",
       "    </tr>\n",
       "    <tr>\n",
       "      <td>4</td>\n",
       "      <td>0.663286</td>\n",
       "      <td>0.405344</td>\n",
       "      <td>0.888889</td>\n",
       "      <td>0.865546</td>\n",
       "      <td>0.865546</td>\n",
       "      <td>00:04</td>\n",
       "    </tr>\n",
       "    <tr>\n",
       "      <td>5</td>\n",
       "      <td>0.671797</td>\n",
       "      <td>0.405933</td>\n",
       "      <td>0.888889</td>\n",
       "      <td>0.860692</td>\n",
       "      <td>0.879552</td>\n",
       "      <td>00:04</td>\n",
       "    </tr>\n",
       "    <tr>\n",
       "      <td>6</td>\n",
       "      <td>0.689085</td>\n",
       "      <td>0.402292</td>\n",
       "      <td>0.875000</td>\n",
       "      <td>0.846364</td>\n",
       "      <td>0.855742</td>\n",
       "      <td>00:04</td>\n",
       "    </tr>\n",
       "    <tr>\n",
       "      <td>7</td>\n",
       "      <td>0.669236</td>\n",
       "      <td>0.396760</td>\n",
       "      <td>0.888889</td>\n",
       "      <td>0.860692</td>\n",
       "      <td>0.879552</td>\n",
       "      <td>00:04</td>\n",
       "    </tr>\n",
       "    <tr>\n",
       "      <td>8</td>\n",
       "      <td>0.635539</td>\n",
       "      <td>0.395732</td>\n",
       "      <td>0.888889</td>\n",
       "      <td>0.858723</td>\n",
       "      <td>0.893557</td>\n",
       "      <td>00:04</td>\n",
       "    </tr>\n",
       "    <tr>\n",
       "      <td>9</td>\n",
       "      <td>0.631764</td>\n",
       "      <td>0.406272</td>\n",
       "      <td>0.888889</td>\n",
       "      <td>0.860692</td>\n",
       "      <td>0.879552</td>\n",
       "      <td>00:04</td>\n",
       "    </tr>\n",
       "    <tr>\n",
       "      <td>10</td>\n",
       "      <td>0.633304</td>\n",
       "      <td>0.396330</td>\n",
       "      <td>0.888889</td>\n",
       "      <td>0.860692</td>\n",
       "      <td>0.879552</td>\n",
       "      <td>00:04</td>\n",
       "    </tr>\n",
       "    <tr>\n",
       "      <td>11</td>\n",
       "      <td>0.616319</td>\n",
       "      <td>0.396396</td>\n",
       "      <td>0.902778</td>\n",
       "      <td>0.875000</td>\n",
       "      <td>0.903361</td>\n",
       "      <td>00:04</td>\n",
       "    </tr>\n",
       "    <tr>\n",
       "      <td>12</td>\n",
       "      <td>0.597007</td>\n",
       "      <td>0.394267</td>\n",
       "      <td>0.875000</td>\n",
       "      <td>0.846364</td>\n",
       "      <td>0.855742</td>\n",
       "      <td>00:04</td>\n",
       "    </tr>\n",
       "    <tr>\n",
       "      <td>13</td>\n",
       "      <td>0.593001</td>\n",
       "      <td>0.390411</td>\n",
       "      <td>0.888889</td>\n",
       "      <td>0.860692</td>\n",
       "      <td>0.879552</td>\n",
       "      <td>00:04</td>\n",
       "    </tr>\n",
       "    <tr>\n",
       "      <td>14</td>\n",
       "      <td>0.585489</td>\n",
       "      <td>0.377637</td>\n",
       "      <td>0.888889</td>\n",
       "      <td>0.860692</td>\n",
       "      <td>0.879552</td>\n",
       "      <td>00:04</td>\n",
       "    </tr>\n",
       "    <tr>\n",
       "      <td>15</td>\n",
       "      <td>0.587937</td>\n",
       "      <td>0.381455</td>\n",
       "      <td>0.875000</td>\n",
       "      <td>0.846364</td>\n",
       "      <td>0.855742</td>\n",
       "      <td>00:04</td>\n",
       "    </tr>\n",
       "    <tr>\n",
       "      <td>16</td>\n",
       "      <td>0.573843</td>\n",
       "      <td>0.382189</td>\n",
       "      <td>0.875000</td>\n",
       "      <td>0.846364</td>\n",
       "      <td>0.855742</td>\n",
       "      <td>00:04</td>\n",
       "    </tr>\n",
       "    <tr>\n",
       "      <td>17</td>\n",
       "      <td>0.579079</td>\n",
       "      <td>0.390977</td>\n",
       "      <td>0.875000</td>\n",
       "      <td>0.846364</td>\n",
       "      <td>0.855742</td>\n",
       "      <td>00:04</td>\n",
       "    </tr>\n",
       "    <tr>\n",
       "      <td>18</td>\n",
       "      <td>0.597895</td>\n",
       "      <td>0.380509</td>\n",
       "      <td>0.875000</td>\n",
       "      <td>0.846364</td>\n",
       "      <td>0.855742</td>\n",
       "      <td>00:04</td>\n",
       "    </tr>\n",
       "    <tr>\n",
       "      <td>19</td>\n",
       "      <td>0.595491</td>\n",
       "      <td>0.397586</td>\n",
       "      <td>0.888889</td>\n",
       "      <td>0.860692</td>\n",
       "      <td>0.879552</td>\n",
       "      <td>00:04</td>\n",
       "    </tr>\n",
       "  </tbody>\n",
       "</table>"
      ],
      "text/plain": [
       "<IPython.core.display.HTML object>"
      ]
     },
     "metadata": {},
     "output_type": "display_data"
    },
    {
     "data": {
      "image/png": "[encoded data removed]",
      "text/plain": [
       "<Figure size 432x288 with 1 Axes>"
      ]
     },
     "metadata": {
      "needs_background": "light"
     },
     "output_type": "display_data"
    }
   ],
   "source": [
    "dls = get_dls(16, 128)\n",
    "#Use pretrained resnet model\n",
    "learn_labels_tl = cnn_learner(dls, resnet18, metrics=accuracy, loss_func=LabelSmoothingCrossEntropy())\n",
    "\n",
    "learn_labels_tl.metrics=[accuracy,\n",
    "               Precision(average='macro'),\n",
    "               Recall(average='macro')]\n",
    "\n",
    "learn_labels_tl.fit_one_cycle(1, 10e-4)\n",
    "learn_labels_tl.fit_one_cycle(1, 10e-4)\n",
    "learn_labels_tl.fit_one_cycle(1, 10e-4)\n",
    "learn_labels_tl.fit_one_cycle(1, 10e-4)\n",
    "#Increase image resize and decrease learning rate\n",
    "learn_labels_tl.dls = get_dls(16, 256)\n",
    "learn_labels_tl.fine_tune(4, 7e-4)\n",
    "#Transfer learn on last few epochs\n",
    "learn_labels_tl.unfreeze()  \n",
    "learn_labels_tl.dls = get_dls(16, 350)\n",
    "learn_labels_tl.fine_tune(20, 1e-4)\n",
    "learn_labels_tl.freeze() \n",
    "\n",
    "loss_labels_tl = learn_labels_tl.recorder.values\n",
    "loss_plot(loss_labels_tl)"
   ]
  },
  {
   "cell_type": "code",
   "execution_count": 7,
   "metadata": {
    "scrolled": false
   },
   "outputs": [
    {
     "data": {
      "text/html": [],
      "text/plain": [
       "<IPython.core.display.HTML object>"
      ]
     },
     "metadata": {},
     "output_type": "display_data"
    },
    {
     "data": {
      "image/png": "[encoded data removed]",
      "text/plain": [
       "<Figure size 432x288 with 1 Axes>"
      ]
     },
     "metadata": {
      "needs_background": "light"
     },
     "output_type": "display_data"
    }
   ],
   "source": [
    "interp = ClassificationInterpretation.from_learner(learn_labels_tl)\n",
    "interp.plot_confusion_matrix()"
   ]
  },
  {
   "cell_type": "code",
   "execution_count": 8,
   "metadata": {},
   "outputs": [],
   "source": [
    "#learn_labels_tl.export('/notebooks/Kombucha/KombuchaVision_3.17.21.pkl')"
   ]
  },
  {
   "cell_type": "code",
   "execution_count": 9,
   "metadata": {},
   "outputs": [],
   "source": [
    "path = Path('/notebooks/Kombucha/')\n",
    "learn_inf = load_learner(path/'KombuchaVision_3.17.21.pkl')"
   ]
  },
  {
   "cell_type": "code",
   "execution_count": 10,
   "metadata": {},
   "outputs": [
    {
     "data": {
      "text/plain": [
       "<bound method Learner.summary of <fastai.learner.Learner object at 0x7fa8787b7d60>>"
      ]
     },
     "execution_count": 10,
     "metadata": {},
     "output_type": "execute_result"
    }
   ],
   "source": [
    "learn_inf.summary"
   ]
  },
  {
   "cell_type": "code",
   "execution_count": 11,
   "metadata": {},
   "outputs": [
    {
     "data": {
      "text/html": [],
      "text/plain": [
       "<IPython.core.display.HTML object>"
      ]
     },
     "metadata": {},
     "output_type": "display_data"
    },
    {
     "data": {
      "text/plain": [
       "('Not Mold', tensor(1), tensor([0.0154, 0.9846]))"
      ]
     },
     "execution_count": 11,
     "metadata": {},
     "output_type": "execute_result"
    }
   ],
   "source": [
    "pred = learn_inf.predict('/notebooks/Kombucha/IMG_1920.jpg')\n",
    "pred"
   ]
  },
  {
   "cell_type": "code",
   "execution_count": null,
   "metadata": {},
   "outputs": [],
   "source": []
  }
 ],
 "metadata": {
  "kernelspec": {
   "display_name": "Python 3",
   "language": "python",
   "name": "python3"
  },
  "language_info": {
   "codemirror_mode": {
    "name": "ipython",
    "version": 3
   },
   "file_extension": ".py",
   "mimetype": "text/x-python",
   "name": "python",
   "nbconvert_exporter": "python",
   "pygments_lexer": "ipython3",
   "version": "3.8.5"
  }
 },
 "nbformat": 4,
 "nbformat_minor": 4
}
